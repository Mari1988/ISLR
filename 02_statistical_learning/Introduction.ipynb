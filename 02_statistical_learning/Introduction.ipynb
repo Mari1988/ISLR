{
 "cells": [
  {
   "cell_type": "markdown",
   "metadata": {},
   "source": [
    "# Statistical Learning\n",
    "\n",
    "    * The inputs (X) is often referred as Independent variables, Features, Predictors or just variables\n",
    "    * The output Y is often referred as Dependent variable or Response\n",
    "\n",
    "In essence, Statistical Learning refers to the set of approaches for estimating $ f $ which maps the input $X$ to the output $Y$ \n",
    "\n",
    "$ Y = f(X)$\n",
    "\n",
    "also, methods to evaluate the estimates"
   ]
  },
  {
   "cell_type": "code",
   "execution_count": null,
   "metadata": {},
   "outputs": [],
   "source": []
  }
 ],
 "metadata": {
  "kernelspec": {
   "display_name": "R",
   "language": "R",
   "name": "ir"
  },
  "language_info": {
   "codemirror_mode": "r",
   "file_extension": ".r",
   "mimetype": "text/x-r-source",
   "name": "R",
   "pygments_lexer": "r",
   "version": "3.4.3"
  }
 },
 "nbformat": 4,
 "nbformat_minor": 2
}
